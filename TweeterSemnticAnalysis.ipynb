{
 "cells": [
  {
   "cell_type": "code",
   "execution_count": 1,
   "id": "demonstrated-combine",
   "metadata": {},
   "outputs": [],
   "source": [
    "import pandas as pd \n",
    "import numpy as np \n",
    "\n",
    "import enchant\n",
    "from nltk.stem import WordNetLemmatizer\n",
    "from nltk.corpus import wordnet\n",
    "\n",
    "import re \n",
    "from nltk.tokenize import sent_tokenize, word_tokenize\n",
    "import nltk.corpus\n",
    "from nltk.corpus import stopwords\n",
    "stop = stopwords.words('english')\n",
    "from sklearn.feature_extraction.text import CountVectorizer\n",
    "from sklearn.linear_model import LogisticRegression\n",
    "from sklearn.metrics import classification_report\n",
    "\n",
    "from sklearn.metrics import f1_score\n",
    "from sklearn.metrics import recall_score"
   ]
  },
  {
   "cell_type": "code",
   "execution_count": 2,
   "id": "acting-lottery",
   "metadata": {},
   "outputs": [
    {
     "data": {
      "text/html": [
       "<div>\n",
       "<style scoped>\n",
       "    .dataframe tbody tr th:only-of-type {\n",
       "        vertical-align: middle;\n",
       "    }\n",
       "\n",
       "    .dataframe tbody tr th {\n",
       "        vertical-align: top;\n",
       "    }\n",
       "\n",
       "    .dataframe thead th {\n",
       "        text-align: right;\n",
       "    }\n",
       "</style>\n",
       "<table border=\"1\" class=\"dataframe\">\n",
       "  <thead>\n",
       "    <tr style=\"text-align: right;\">\n",
       "      <th></th>\n",
       "      <th>textID</th>\n",
       "      <th>text</th>\n",
       "      <th>selected_text</th>\n",
       "      <th>sentiment</th>\n",
       "    </tr>\n",
       "  </thead>\n",
       "  <tbody>\n",
       "    <tr>\n",
       "      <th>0</th>\n",
       "      <td>cb774db0d1</td>\n",
       "      <td>I`d have responded, if I were going</td>\n",
       "      <td>I`d have responded, if I were going</td>\n",
       "      <td>neutral</td>\n",
       "    </tr>\n",
       "    <tr>\n",
       "      <th>1</th>\n",
       "      <td>549e992a42</td>\n",
       "      <td>Sooo SAD I will miss you here in San Diego!!!</td>\n",
       "      <td>Sooo SAD</td>\n",
       "      <td>negative</td>\n",
       "    </tr>\n",
       "    <tr>\n",
       "      <th>2</th>\n",
       "      <td>088c60f138</td>\n",
       "      <td>my boss is bullying me...</td>\n",
       "      <td>bullying me</td>\n",
       "      <td>negative</td>\n",
       "    </tr>\n",
       "    <tr>\n",
       "      <th>3</th>\n",
       "      <td>9642c003ef</td>\n",
       "      <td>what interview! leave me alone</td>\n",
       "      <td>leave me alone</td>\n",
       "      <td>negative</td>\n",
       "    </tr>\n",
       "    <tr>\n",
       "      <th>4</th>\n",
       "      <td>358bd9e861</td>\n",
       "      <td>Sons of ****, why couldn`t they put them on t...</td>\n",
       "      <td>Sons of ****,</td>\n",
       "      <td>negative</td>\n",
       "    </tr>\n",
       "  </tbody>\n",
       "</table>\n",
       "</div>"
      ],
      "text/plain": [
       "       textID                                               text  \\\n",
       "0  cb774db0d1                I`d have responded, if I were going   \n",
       "1  549e992a42      Sooo SAD I will miss you here in San Diego!!!   \n",
       "2  088c60f138                          my boss is bullying me...   \n",
       "3  9642c003ef                     what interview! leave me alone   \n",
       "4  358bd9e861   Sons of ****, why couldn`t they put them on t...   \n",
       "\n",
       "                         selected_text sentiment  \n",
       "0  I`d have responded, if I were going   neutral  \n",
       "1                             Sooo SAD  negative  \n",
       "2                          bullying me  negative  \n",
       "3                       leave me alone  negative  \n",
       "4                        Sons of ****,  negative  "
      ]
     },
     "execution_count": 2,
     "metadata": {},
     "output_type": "execute_result"
    }
   ],
   "source": [
    "df_train = pd.read_csv('train.csv')\n",
    "df_test = pd.read_csv('test.csv')\n",
    "df_train.head()"
   ]
  },
  {
   "cell_type": "code",
   "execution_count": 3,
   "id": "relative-enterprise",
   "metadata": {},
   "outputs": [
    {
     "data": {
      "text/html": [
       "<div>\n",
       "<style scoped>\n",
       "    .dataframe tbody tr th:only-of-type {\n",
       "        vertical-align: middle;\n",
       "    }\n",
       "\n",
       "    .dataframe tbody tr th {\n",
       "        vertical-align: top;\n",
       "    }\n",
       "\n",
       "    .dataframe thead th {\n",
       "        text-align: right;\n",
       "    }\n",
       "</style>\n",
       "<table border=\"1\" class=\"dataframe\">\n",
       "  <thead>\n",
       "    <tr style=\"text-align: right;\">\n",
       "      <th></th>\n",
       "      <th>textID</th>\n",
       "      <th>text</th>\n",
       "      <th>sentiment</th>\n",
       "    </tr>\n",
       "  </thead>\n",
       "  <tbody>\n",
       "    <tr>\n",
       "      <th>0</th>\n",
       "      <td>f87dea47db</td>\n",
       "      <td>Last session of the day  http://twitpic.com/67ezh</td>\n",
       "      <td>neutral</td>\n",
       "    </tr>\n",
       "    <tr>\n",
       "      <th>1</th>\n",
       "      <td>96d74cb729</td>\n",
       "      <td>Shanghai is also really exciting (precisely -...</td>\n",
       "      <td>positive</td>\n",
       "    </tr>\n",
       "    <tr>\n",
       "      <th>2</th>\n",
       "      <td>eee518ae67</td>\n",
       "      <td>Recession hit Veronique Branquinho, she has to...</td>\n",
       "      <td>negative</td>\n",
       "    </tr>\n",
       "    <tr>\n",
       "      <th>3</th>\n",
       "      <td>01082688c6</td>\n",
       "      <td>happy bday!</td>\n",
       "      <td>positive</td>\n",
       "    </tr>\n",
       "    <tr>\n",
       "      <th>4</th>\n",
       "      <td>33987a8ee5</td>\n",
       "      <td>http://twitpic.com/4w75p - I like it!!</td>\n",
       "      <td>positive</td>\n",
       "    </tr>\n",
       "  </tbody>\n",
       "</table>\n",
       "</div>"
      ],
      "text/plain": [
       "       textID                                               text sentiment\n",
       "0  f87dea47db  Last session of the day  http://twitpic.com/67ezh   neutral\n",
       "1  96d74cb729   Shanghai is also really exciting (precisely -...  positive\n",
       "2  eee518ae67  Recession hit Veronique Branquinho, she has to...  negative\n",
       "3  01082688c6                                        happy bday!  positive\n",
       "4  33987a8ee5             http://twitpic.com/4w75p - I like it!!  positive"
      ]
     },
     "execution_count": 3,
     "metadata": {},
     "output_type": "execute_result"
    }
   ],
   "source": [
    "df_test.head()"
   ]
  },
  {
   "cell_type": "code",
   "execution_count": 4,
   "id": "neither-capability",
   "metadata": {},
   "outputs": [
    {
     "data": {
      "image/png": "[encoded data removed]",
      "text/plain": [
       "<Figure size 432x288 with 1 Axes>"
      ]
     },
     "metadata": {
      "needs_background": "light"
     },
     "output_type": "display_data"
    }
   ],
   "source": [
    "df_train.sentiment.value_counts().plot(kind = 'bar');"
   ]
  },
  {
   "cell_type": "markdown",
   "id": "convenient-respect",
   "metadata": {},
   "source": [
    "# Data preprocessing"
   ]
  },
  {
   "cell_type": "code",
   "execution_count": 5,
   "id": "virtual-bermuda",
   "metadata": {},
   "outputs": [],
   "source": [
    "def text_cleaning(df):\n",
    "\n",
    "    df.drop('textID', axis= 1 , inplace = True)\n",
    "    df.dropna(axis=0, inplace= True)\n",
    "    df['sentiment'] = df['sentiment'].apply(lambda x: 0 if x == 'negative' else(1 if x == 'neutral' else 2))\n",
    "    df['text_clean'] = df['text'].str.lower()\n",
    "    df['text_clean'] = df['text_clean'].apply(lambda x: re.sub(r\"(@[A-Za-z0-9]+)|([^0-9A-Za-z \\t])|(\\w+:\\/\\/\\S+)|^rt|http.+?\", \"\", str(x)))  \n",
    "    df['text_clean'] = df['text_clean'].apply(lambda x: re.sub(r\"\\d+\", \"\", x))\n",
    "    df['text_tokonize'] = df['text_clean'].apply(lambda x: word_tokenize(x))\n",
    "    return df\n",
    "df_train = text_cleaning(df_train)\n",
    "df_test = text_cleaning(df_test)\n"
   ]
  },
  {
   "cell_type": "code",
   "execution_count": 6,
   "id": "inclusive-certification",
   "metadata": {},
   "outputs": [],
   "source": [
    "def remove_stopwords(text):\n",
    "    text=[word for word in text if word not in stop]\n",
    "    return text\n",
    "\n",
    "df_train['text_withNoStopWords'] = df_train['text_tokonize'].apply(lambda x: remove_stopwords(x))\n",
    "df_test['text_withNoStopWords'] = df_test['text_tokonize'].apply(lambda x: remove_stopwords(x))"
   ]
  },
  {
   "cell_type": "code",
   "execution_count": 7,
   "id": "rough-rubber",
   "metadata": {},
   "outputs": [],
   "source": [
    "def get_pos(word):\n",
    "    tag = nltk.pos_tag([word])[0][1][0].upper()\n",
    "    tag_dict = {\"J\": wordnet.ADJ,\n",
    "                \"N\": wordnet.NOUN,\n",
    "                \"V\": wordnet.VERB,\n",
    "                \"R\": wordnet.ADV}\n",
    "\n",
    "    return tag_dict.get(tag, wordnet.NOUN) \n",
    "\n",
    "def lemmitizer(x):\n",
    "    x = [WordNetLemmatizer().lemmatize(word, get_pos(word)) for word in x ]\n",
    "    return x\n",
    "\n",
    "df_train['clean_text'] = df_train['text_withNoStopWords'].apply(lambda x:lemmitizer(x))\n",
    "df_test['clean_text'] = df_test['text_withNoStopWords'].apply(lambda x:lemmitizer(x))"
   ]
  },
  {
   "cell_type": "code",
   "execution_count": 8,
   "id": "nearby-interval",
   "metadata": {},
   "outputs": [
    {
     "data": {
      "text/html": [
       "<div>\n",
       "<style scoped>\n",
       "    .dataframe tbody tr th:only-of-type {\n",
       "        vertical-align: middle;\n",
       "    }\n",
       "\n",
       "    .dataframe tbody tr th {\n",
       "        vertical-align: top;\n",
       "    }\n",
       "\n",
       "    .dataframe thead th {\n",
       "        text-align: right;\n",
       "    }\n",
       "</style>\n",
       "<table border=\"1\" class=\"dataframe\">\n",
       "  <thead>\n",
       "    <tr style=\"text-align: right;\">\n",
       "      <th></th>\n",
       "      <th>text</th>\n",
       "      <th>selected_text</th>\n",
       "      <th>sentiment</th>\n",
       "      <th>text_clean</th>\n",
       "      <th>text_tokonize</th>\n",
       "      <th>text_withNoStopWords</th>\n",
       "      <th>clean_text</th>\n",
       "    </tr>\n",
       "  </thead>\n",
       "  <tbody>\n",
       "    <tr>\n",
       "      <th>0</th>\n",
       "      <td>I`d have responded, if I were going</td>\n",
       "      <td>I`d have responded, if I were going</td>\n",
       "      <td>1</td>\n",
       "      <td>id have responded if i were going</td>\n",
       "      <td>[id, have, responded, if, i, were, going]</td>\n",
       "      <td>[id, responded, going]</td>\n",
       "      <td>[id, respond, go]</td>\n",
       "    </tr>\n",
       "    <tr>\n",
       "      <th>1</th>\n",
       "      <td>Sooo SAD I will miss you here in San Diego!!!</td>\n",
       "      <td>Sooo SAD</td>\n",
       "      <td>0</td>\n",
       "      <td>sooo sad i will miss you here in san diego</td>\n",
       "      <td>[sooo, sad, i, will, miss, you, here, in, san,...</td>\n",
       "      <td>[sooo, sad, miss, san, diego]</td>\n",
       "      <td>[sooo, sad, miss, san, diego]</td>\n",
       "    </tr>\n",
       "    <tr>\n",
       "      <th>2</th>\n",
       "      <td>my boss is bullying me...</td>\n",
       "      <td>bullying me</td>\n",
       "      <td>0</td>\n",
       "      <td>my boss is bullying me</td>\n",
       "      <td>[my, boss, is, bullying, me]</td>\n",
       "      <td>[boss, bullying]</td>\n",
       "      <td>[bos, bullying]</td>\n",
       "    </tr>\n",
       "    <tr>\n",
       "      <th>3</th>\n",
       "      <td>what interview! leave me alone</td>\n",
       "      <td>leave me alone</td>\n",
       "      <td>0</td>\n",
       "      <td>what interview leave me alone</td>\n",
       "      <td>[what, interview, leave, me, alone]</td>\n",
       "      <td>[interview, leave, alone]</td>\n",
       "      <td>[interview, leave, alone]</td>\n",
       "    </tr>\n",
       "    <tr>\n",
       "      <th>4</th>\n",
       "      <td>Sons of ****, why couldn`t they put them on t...</td>\n",
       "      <td>Sons of ****,</td>\n",
       "      <td>0</td>\n",
       "      <td>sons of  why couldnt they put them on the rel...</td>\n",
       "      <td>[sons, of, why, couldnt, they, put, them, on, ...</td>\n",
       "      <td>[sons, couldnt, put, releases, already, bought]</td>\n",
       "      <td>[son, couldnt, put, release, already, bought]</td>\n",
       "    </tr>\n",
       "  </tbody>\n",
       "</table>\n",
       "</div>"
      ],
      "text/plain": [
       "                                                text  \\\n",
       "0                I`d have responded, if I were going   \n",
       "1      Sooo SAD I will miss you here in San Diego!!!   \n",
       "2                          my boss is bullying me...   \n",
       "3                     what interview! leave me alone   \n",
       "4   Sons of ****, why couldn`t they put them on t...   \n",
       "\n",
       "                         selected_text  sentiment  \\\n",
       "0  I`d have responded, if I were going          1   \n",
       "1                             Sooo SAD          0   \n",
       "2                          bullying me          0   \n",
       "3                       leave me alone          0   \n",
       "4                        Sons of ****,          0   \n",
       "\n",
       "                                          text_clean  \\\n",
       "0                  id have responded if i were going   \n",
       "1         sooo sad i will miss you here in san diego   \n",
       "2                             my boss is bullying me   \n",
       "3                      what interview leave me alone   \n",
       "4   sons of  why couldnt they put them on the rel...   \n",
       "\n",
       "                                       text_tokonize  \\\n",
       "0          [id, have, responded, if, i, were, going]   \n",
       "1  [sooo, sad, i, will, miss, you, here, in, san,...   \n",
       "2                       [my, boss, is, bullying, me]   \n",
       "3                [what, interview, leave, me, alone]   \n",
       "4  [sons, of, why, couldnt, they, put, them, on, ...   \n",
       "\n",
       "                              text_withNoStopWords  \\\n",
       "0                           [id, responded, going]   \n",
       "1                    [sooo, sad, miss, san, diego]   \n",
       "2                                 [boss, bullying]   \n",
       "3                        [interview, leave, alone]   \n",
       "4  [sons, couldnt, put, releases, already, bought]   \n",
       "\n",
       "                                      clean_text  \n",
       "0                              [id, respond, go]  \n",
       "1                  [sooo, sad, miss, san, diego]  \n",
       "2                                [bos, bullying]  \n",
       "3                      [interview, leave, alone]  \n",
       "4  [son, couldnt, put, release, already, bought]  "
      ]
     },
     "execution_count": 8,
     "metadata": {},
     "output_type": "execute_result"
    }
   ],
   "source": [
    "df_train.head()"
   ]
  },
  {
   "cell_type": "code",
   "execution_count": 9,
   "id": "greatest-transformation",
   "metadata": {},
   "outputs": [],
   "source": [
    "d = enchant.Dict(\"en_US\")\n",
    "def checkIfEnglish(text):\n",
    "    text=[word for word in text if d.check(word)==True]    \n",
    "    # initialize an empty string\n",
    "    str1 = \" \" \n",
    "    \n",
    "    # return string  \n",
    "    return (str1.join(text))"
   ]
  },
  {
   "cell_type": "code",
   "execution_count": 10,
   "id": "derived-serial",
   "metadata": {},
   "outputs": [],
   "source": [
    "df_train['clean_text'] = df_train['clean_text'].apply(lambda x:  checkIfEnglish(x))\n",
    "df_test['clean_text'] = df_test['clean_text'].apply(lambda x: checkIfEnglish(x))\n",
    "\n"
   ]
  },
  {
   "cell_type": "code",
   "execution_count": 11,
   "id": "marked-voice",
   "metadata": {},
   "outputs": [
    {
     "data": {
      "text/html": [
       "<div>\n",
       "<style scoped>\n",
       "    .dataframe tbody tr th:only-of-type {\n",
       "        vertical-align: middle;\n",
       "    }\n",
       "\n",
       "    .dataframe tbody tr th {\n",
       "        vertical-align: top;\n",
       "    }\n",
       "\n",
       "    .dataframe thead th {\n",
       "        text-align: right;\n",
       "    }\n",
       "</style>\n",
       "<table border=\"1\" class=\"dataframe\">\n",
       "  <thead>\n",
       "    <tr style=\"text-align: right;\">\n",
       "      <th></th>\n",
       "      <th>text</th>\n",
       "      <th>selected_text</th>\n",
       "      <th>sentiment</th>\n",
       "      <th>text_clean</th>\n",
       "      <th>text_tokonize</th>\n",
       "      <th>text_withNoStopWords</th>\n",
       "      <th>clean_text</th>\n",
       "    </tr>\n",
       "  </thead>\n",
       "  <tbody>\n",
       "    <tr>\n",
       "      <th>0</th>\n",
       "      <td>I`d have responded, if I were going</td>\n",
       "      <td>I`d have responded, if I were going</td>\n",
       "      <td>1</td>\n",
       "      <td>id have responded if i were going</td>\n",
       "      <td>[id, have, responded, if, i, were, going]</td>\n",
       "      <td>[id, responded, going]</td>\n",
       "      <td>id respond go</td>\n",
       "    </tr>\n",
       "    <tr>\n",
       "      <th>1</th>\n",
       "      <td>Sooo SAD I will miss you here in San Diego!!!</td>\n",
       "      <td>Sooo SAD</td>\n",
       "      <td>0</td>\n",
       "      <td>sooo sad i will miss you here in san diego</td>\n",
       "      <td>[sooo, sad, i, will, miss, you, here, in, san,...</td>\n",
       "      <td>[sooo, sad, miss, san, diego]</td>\n",
       "      <td>sad miss</td>\n",
       "    </tr>\n",
       "    <tr>\n",
       "      <th>2</th>\n",
       "      <td>my boss is bullying me...</td>\n",
       "      <td>bullying me</td>\n",
       "      <td>0</td>\n",
       "      <td>my boss is bullying me</td>\n",
       "      <td>[my, boss, is, bullying, me]</td>\n",
       "      <td>[boss, bullying]</td>\n",
       "      <td>bullying</td>\n",
       "    </tr>\n",
       "    <tr>\n",
       "      <th>3</th>\n",
       "      <td>what interview! leave me alone</td>\n",
       "      <td>leave me alone</td>\n",
       "      <td>0</td>\n",
       "      <td>what interview leave me alone</td>\n",
       "      <td>[what, interview, leave, me, alone]</td>\n",
       "      <td>[interview, leave, alone]</td>\n",
       "      <td>interview leave alone</td>\n",
       "    </tr>\n",
       "    <tr>\n",
       "      <th>4</th>\n",
       "      <td>Sons of ****, why couldn`t they put them on t...</td>\n",
       "      <td>Sons of ****,</td>\n",
       "      <td>0</td>\n",
       "      <td>sons of  why couldnt they put them on the rel...</td>\n",
       "      <td>[sons, of, why, couldnt, they, put, them, on, ...</td>\n",
       "      <td>[sons, couldnt, put, releases, already, bought]</td>\n",
       "      <td>son put release already bought</td>\n",
       "    </tr>\n",
       "  </tbody>\n",
       "</table>\n",
       "</div>"
      ],
      "text/plain": [
       "                                                text  \\\n",
       "0                I`d have responded, if I were going   \n",
       "1      Sooo SAD I will miss you here in San Diego!!!   \n",
       "2                          my boss is bullying me...   \n",
       "3                     what interview! leave me alone   \n",
       "4   Sons of ****, why couldn`t they put them on t...   \n",
       "\n",
       "                         selected_text  sentiment  \\\n",
       "0  I`d have responded, if I were going          1   \n",
       "1                             Sooo SAD          0   \n",
       "2                          bullying me          0   \n",
       "3                       leave me alone          0   \n",
       "4                        Sons of ****,          0   \n",
       "\n",
       "                                          text_clean  \\\n",
       "0                  id have responded if i were going   \n",
       "1         sooo sad i will miss you here in san diego   \n",
       "2                             my boss is bullying me   \n",
       "3                      what interview leave me alone   \n",
       "4   sons of  why couldnt they put them on the rel...   \n",
       "\n",
       "                                       text_tokonize  \\\n",
       "0          [id, have, responded, if, i, were, going]   \n",
       "1  [sooo, sad, i, will, miss, you, here, in, san,...   \n",
       "2                       [my, boss, is, bullying, me]   \n",
       "3                [what, interview, leave, me, alone]   \n",
       "4  [sons, of, why, couldnt, they, put, them, on, ...   \n",
       "\n",
       "                              text_withNoStopWords  \\\n",
       "0                           [id, responded, going]   \n",
       "1                    [sooo, sad, miss, san, diego]   \n",
       "2                                 [boss, bullying]   \n",
       "3                        [interview, leave, alone]   \n",
       "4  [sons, couldnt, put, releases, already, bought]   \n",
       "\n",
       "                       clean_text  \n",
       "0                   id respond go  \n",
       "1                        sad miss  \n",
       "2                        bullying  \n",
       "3           interview leave alone  \n",
       "4  son put release already bought  "
      ]
     },
     "execution_count": 11,
     "metadata": {},
     "output_type": "execute_result"
    }
   ],
   "source": [
    "df_train.head()"
   ]
  },
  {
   "cell_type": "code",
   "execution_count": 12,
   "id": "dirty-walker",
   "metadata": {},
   "outputs": [],
   "source": [
    "df_train['clean_text'] = df_train['clean_text'].apply(lambda x: x if len(x) >=2 else None )\n",
    "df_test['clean_text'] = df_test['clean_text'].apply(lambda x: x if len(x) >= 2 else None )"
   ]
  },
  {
   "cell_type": "code",
   "execution_count": 13,
   "id": "purple-familiar",
   "metadata": {},
   "outputs": [],
   "source": [
    "df_train.dropna(axis=0, inplace=True)\n",
    "df_test.dropna(axis=0, inplace=True)"
   ]
  },
  {
   "cell_type": "code",
   "execution_count": 14,
   "id": "flush-maine",
   "metadata": {},
   "outputs": [],
   "source": [
    "def split_X_Y(df):\n",
    "    X = df['clean_text']\n",
    "    Y = df['sentiment']\n",
    "    return X, Y\n",
    "\n",
    "X_train, Y_train = split_X_Y(df_train)\n",
    "X_test, Y_test = split_X_Y(df_test)"
   ]
  },
  {
   "cell_type": "code",
   "execution_count": 15,
   "id": "smaller-display",
   "metadata": {},
   "outputs": [],
   "source": [
    "count_vect = CountVectorizer(ngram_range=(1,1))\n",
    "count_vect_train = count_vect.fit_transform(X_train)\n",
    "count_vect_train = count_vect_train.toarray()\n",
    "count_vect_test = count_vect.transform(X_test)\n",
    "count_vect_test = count_vect_test.toarray()"
   ]
  },
  {
   "cell_type": "code",
   "execution_count": 16,
   "id": "extreme-adolescent",
   "metadata": {},
   "outputs": [],
   "source": [
    "vocab = count_vect.get_feature_names()"
   ]
  },
  {
   "cell_type": "markdown",
   "id": "matched-monitoring",
   "metadata": {},
   "source": [
    "# Model Training "
   ]
  },
  {
   "cell_type": "code",
   "execution_count": 17,
   "id": "regular-filename",
   "metadata": {},
   "outputs": [
    {
     "data": {
      "text/plain": [
       "LogisticRegression(C=0.1, class_weight='balanced', multi_class='multinomial',\n",
       "                   n_jobs=-1, random_state=42, solver='newton-cg')"
      ]
     },
     "execution_count": 17,
     "metadata": {},
     "output_type": "execute_result"
    }
   ],
   "source": [
    "model = LogisticRegression(multi_class = 'multinomial', solver = 'newton-cg', n_jobs = -1,\n",
    "                                     class_weight = 'balanced', C = 0.1, random_state = 42)\n",
    "model.fit(count_vect_train,Y_train)"
   ]
  },
  {
   "cell_type": "markdown",
   "id": "raised-retrieval",
   "metadata": {},
   "source": [
    "# Model evaluation"
   ]
  },
  {
   "cell_type": "code",
   "execution_count": 18,
   "id": "referenced-blues",
   "metadata": {},
   "outputs": [
    {
     "name": "stdout",
     "output_type": "stream",
     "text": [
      "f1 score: 0.7002944543924225\n",
      "              precision    recall  f1-score   support\n",
      "\n",
      "           0       0.68      0.68      0.68       996\n",
      "           1       0.65      0.69      0.67      1384\n",
      "           2       0.79      0.72      0.75      1097\n",
      "\n",
      "    accuracy                           0.70      3477\n",
      "   macro avg       0.71      0.70      0.70      3477\n",
      "weighted avg       0.70      0.70      0.70      3477\n",
      "\n"
     ]
    }
   ],
   "source": [
    "y_pred = model.predict(count_vect_test)\n",
    "\n",
    "score = f1_score(Y_test, y_pred, average = 'weighted')\n",
    "\n",
    "print(\"f1 score: {}\".format(score))\n",
    "print(classification_report(Y_test, y_pred))"
   ]
  }
 ],
 "metadata": {
  "kernelspec": {
   "display_name": "Python 3",
   "language": "python",
   "name": "python3"
  },
  "language_info": {
   "codemirror_mode": {
    "name": "ipython",
    "version": 3
   },
   "file_extension": ".py",
   "mimetype": "text/x-python",
   "name": "python",
   "nbconvert_exporter": "python",
   "pygments_lexer": "ipython3",
   "version": "3.7.9"
  }
 },
 "nbformat": 4,
 "nbformat_minor": 5
}
